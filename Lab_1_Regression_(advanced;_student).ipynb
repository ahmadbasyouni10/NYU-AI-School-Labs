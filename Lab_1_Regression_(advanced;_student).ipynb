{
  "nbformat": 4,
  "nbformat_minor": 0,
  "metadata": {
    "kernelspec": {
      "display_name": "Python 3",
      "language": "python",
      "name": "python3"
    },
    "language_info": {
      "codemirror_mode": {
        "name": "ipython",
        "version": 3
      },
      "file_extension": ".py",
      "mimetype": "text/x-python",
      "name": "python",
      "nbconvert_exporter": "python",
      "pygments_lexer": "ipython3",
      "version": "3.6.8"
    },
    "colab": {
      "provenance": [],
      "include_colab_link": true
    }
  },
  "cells": [
    {
      "cell_type": "markdown",
      "metadata": {
        "id": "view-in-github",
        "colab_type": "text"
      },
      "source": [
        "<a href=\"https://colab.research.google.com/github/ahmadbasyouni10/NYU-AI-School-Labs/blob/main/Lab_1_Regression_(advanced%3B_student).ipynb\" target=\"_parent\"><img src=\"https://colab.research.google.com/assets/colab-badge.svg\" alt=\"Open In Colab\"/></a>"
      ]
    },
    {
      "cell_type": "markdown",
      "metadata": {
        "id": "Ttj73Ee58VDE"
      },
      "source": [
        "Overview\n",
        "=====================\n",
        "\n",
        "While programming offers a powerful way to automate repetitive processes, it's only applicable if we are able to precisely specify and program the behavior we want. Machine learning offers us a way to avoid this need for exact specification by only requiring us to specify a goal, and then having an algorithm learn a way to achieve that goal.\n",
        "\n",
        "The machine learning workflow typically consists of the following steps\n",
        "\n",
        "1. Acquire and process data for the problem of interest\n",
        "2. Choose a model\n",
        "3. Define an objective\n",
        "4. Train the model on the training data\n",
        "5. Evaluate the trained model on the test data\n",
        "\n",
        "We will walk through these steps in a simple but realistic setting.\n",
        "\n",
        "**Goal of this tutorial:**\n",
        "\n",
        "1. Review the basics of the Python programming language.  \n",
        "2. Learn the basics of the PyTorch deep learning framework.  \n",
        "3. Understand the machine learning workflow at a high level."
      ]
    },
    {
      "cell_type": "markdown",
      "source": [
        "Link to this notebook: [bit.ly/NYUAIS-lab1](https://bit.ly/NYUAIS-lab1)"
      ],
      "metadata": {
        "id": "WszBK5RNCz6O"
      }
    },
    {
      "cell_type": "markdown",
      "metadata": {
        "id": "cUL7mIgUhHZN"
      },
      "source": [
        "# Setup\n",
        "\n",
        "\n",
        "This lab is a Colab notebook, an interactive Python environment.\n",
        "A notebook consists of multiple text blocks (like this one) and code blocks. You can make new cells of either type by clicking the \"+\" buttons in the top left corner.  \n",
        "\n",
        "You can write code blocks, and then execute the code by highlighting the block then pressing control+enter (or command+enter on Mac). You can also use shift+enter to execute the code and move to the next block. Try this with the following cell.\n"
      ]
    },
    {
      "cell_type": "code",
      "metadata": {
        "id": "lR6mn19Q8VC9"
      },
      "source": [
        "%matplotlib inline"
      ],
      "execution_count": null,
      "outputs": []
    },
    {
      "cell_type": "code",
      "source": [
        "a = 1"
      ],
      "metadata": {
        "id": "MYISVsg5xrYB"
      },
      "execution_count": null,
      "outputs": []
    },
    {
      "cell_type": "code",
      "source": [
        "b = 2"
      ],
      "metadata": {
        "id": "904I2N5ZxsUx"
      },
      "execution_count": null,
      "outputs": []
    },
    {
      "cell_type": "code",
      "source": [
        "a + b"
      ],
      "metadata": {
        "id": "NLT07Z_XxtiG",
        "colab": {
          "base_uri": "https://localhost:8080/"
        },
        "outputId": "7bc9f41a-681c-4449-87ad-caa29d5140ed"
      },
      "execution_count": null,
      "outputs": [
        {
          "output_type": "execute_result",
          "data": {
            "text/plain": [
              "3"
            ]
          },
          "metadata": {},
          "execution_count": 4
        }
      ]
    },
    {
      "cell_type": "code",
      "source": [
        "c = a * b"
      ],
      "metadata": {
        "id": "ZoNm-Bf8E8ht"
      },
      "execution_count": null,
      "outputs": []
    },
    {
      "cell_type": "code",
      "source": [
        "c"
      ],
      "metadata": {
        "colab": {
          "base_uri": "https://localhost:8080/"
        },
        "id": "Q4DUizREFDE8",
        "outputId": "94d1078b-8b9d-4e23-d333-e23b155d71a0"
      },
      "execution_count": null,
      "outputs": [
        {
          "output_type": "execute_result",
          "data": {
            "text/plain": [
              "2"
            ]
          },
          "metadata": {},
          "execution_count": 8
        }
      ]
    },
    {
      "cell_type": "markdown",
      "source": [
        "# Python Review\n",
        "\n",
        "For this lab and much of machine learning, we will use Python for its ease of understanding and large library ecosystem. Let's briefly go over Python syntax and features. You can skip this part if you are very familiar with this language."
      ],
      "metadata": {
        "id": "CwJvidBKtHw3"
      }
    },
    {
      "cell_type": "markdown",
      "source": [
        "### Functions\n",
        "\n",
        "Functions are defined with the following syntax:\n",
        "```\n",
        "def function_name(arg1, args2=default2, ...):\n",
        "    # function body\n",
        "    return\n",
        "```\n",
        "Most of the time, your functions should return a value (possibly multiple values, separated by commas) using the `return` keyword, but this isn't a requirement. If you don't explicitly return something, the function will return the special `None` value by default.\n",
        "\n",
        "Functions are called by using the function name followed by parentheses.\n",
        "If you use the function name without parentheses, you are referring to the function itself, as an object.\n",
        "\n",
        "Python contains many built-in functions. Some of these are straightforward math operators, (e.g. `+, -, /, *`), and others must be called using parentheses, such as `print()`, `int()`, `sum()`, or `len()`."
      ],
      "metadata": {
        "id": "5p5HCQdltY6d"
      }
    },
    {
      "cell_type": "code",
      "source": [
        "def mean(a, b):\n",
        "  return (a + b) / 2"
      ],
      "metadata": {
        "id": "YjmIyAOztgB9"
      },
      "execution_count": null,
      "outputs": []
    },
    {
      "cell_type": "code",
      "source": [
        "mean(3, 5)"
      ],
      "metadata": {
        "id": "XurN1VFOxbiw",
        "colab": {
          "base_uri": "https://localhost:8080/"
        },
        "outputId": "3e96e45c-824c-49c9-afd6-e68c6bfbffe7"
      },
      "execution_count": null,
      "outputs": [
        {
          "output_type": "execute_result",
          "data": {
            "text/plain": [
              "4.0"
            ]
          },
          "metadata": {},
          "execution_count": 10
        }
      ]
    },
    {
      "cell_type": "markdown",
      "metadata": {
        "id": "F1hQYVS-rGL0"
      },
      "source": [
        "### Data Structures\n",
        "\n",
        "Python also has three built-in data structures that are very useful:\n",
        "\n",
        "**Lists** are ordered lists and are created using brackets (`[]`) with comma-separated values. We can access list elements using the list name followed by the index of the element we want to access."
      ]
    },
    {
      "cell_type": "code",
      "metadata": {
        "id": "a7rFwFL0rM8S",
        "colab": {
          "base_uri": "https://localhost:8080/"
        },
        "outputId": "c6749a29-f2eb-40da-fc8e-b2fba47918ad"
      },
      "source": [
        "list1 = [1, 2, 3]\n",
        "print(list1[0]) # indexing\n",
        "print(list1[1])\n",
        "print(list1[-1]) # negative indexing\n",
        "print(list1[:2]) # slicing"
      ],
      "execution_count": null,
      "outputs": [
        {
          "output_type": "stream",
          "name": "stdout",
          "text": [
            "1\n",
            "2\n",
            "3\n",
            "[1, 2]\n"
          ]
        }
      ]
    },
    {
      "cell_type": "code",
      "source": [
        "list2 = [1, \"a\", []] # list elements don't need to be the same type"
      ],
      "metadata": {
        "id": "dV2JT6DOxm_C"
      },
      "execution_count": null,
      "outputs": []
    },
    {
      "cell_type": "code",
      "source": [
        "list3 = [] # defining empty list, also `list()`\n",
        "print(list3)\n",
        "list3.append(1) # add to a list\n",
        "list3.append(2)\n",
        "print(list3)\n",
        "print(len(list3)) # get the length"
      ],
      "metadata": {
        "id": "k1zgkBbKxokm",
        "colab": {
          "base_uri": "https://localhost:8080/"
        },
        "outputId": "dc37b772-8b6f-4494-ece6-f253ce55e117"
      },
      "execution_count": null,
      "outputs": [
        {
          "output_type": "stream",
          "name": "stdout",
          "text": [
            "[]\n",
            "[1, 2]\n",
            "2\n"
          ]
        }
      ]
    },
    {
      "cell_type": "code",
      "source": [
        "print(list2 + list3) # concatenation of two lists"
      ],
      "metadata": {
        "id": "PDfadYNMxqO8",
        "colab": {
          "base_uri": "https://localhost:8080/"
        },
        "outputId": "e744ef07-bf41-4937-a5a0-94cfbdec3928"
      },
      "execution_count": null,
      "outputs": [
        {
          "output_type": "stream",
          "name": "stdout",
          "text": [
            "[1, 'a', [], 1, 2]\n"
          ]
        }
      ]
    },
    {
      "cell_type": "markdown",
      "metadata": {
        "id": "UdVydmiCqkmO"
      },
      "source": [
        "**Dictionaries**, or hash tables, are sets of key-value pairs. We create dictionaries using curly braces (`{}`). We can access the value associated with a particular key by typing the name of the dictionary followed by the key in brackets. The key can be a variable or a literal (strings or numbers).\n"
      ]
    },
    {
      "cell_type": "code",
      "metadata": {
        "id": "2eV4PAYzriWr",
        "colab": {
          "base_uri": "https://localhost:8080/"
        },
        "outputId": "91a24ac8-bdee-4fa6-d752-122343b82490"
      },
      "source": [
        "d = {\"apple\": \"a fruit\", \"banana\": \"an herb\", \"monkey\": \"a mammal\"}\n",
        "print(len(d)) # number of key-value pairs in d\n",
        "print(d[\"apple\"]) # accessing an element"
      ],
      "execution_count": null,
      "outputs": [
        {
          "output_type": "stream",
          "name": "stdout",
          "text": [
            "3\n",
            "a fruit\n"
          ]
        }
      ]
    },
    {
      "cell_type": "code",
      "source": [
        "d['broccoli'] = 'a vegetable' # assign a new key-value pair\n",
        "del d['apple'] # delete a key-value pair\n",
        "print(\"apple\" in d) # check membership\n",
        "key = \"banana\"\n",
        "print(key in d) # variables as keys"
      ],
      "metadata": {
        "id": "Lby8KpdZ7RVu",
        "colab": {
          "base_uri": "https://localhost:8080/"
        },
        "outputId": "9f787892-21a4-4f8e-eba1-77713eea32f4"
      },
      "execution_count": null,
      "outputs": [
        {
          "output_type": "stream",
          "name": "stdout",
          "text": [
            "False\n",
            "True\n"
          ]
        }
      ]
    },
    {
      "cell_type": "code",
      "source": [
        "print(d.keys()) # unordered list of keys in the dictionary\n",
        "print(d.values()) # unordered list of values in the dictionary"
      ],
      "metadata": {
        "id": "F6Xu4Mmj7S8b",
        "colab": {
          "base_uri": "https://localhost:8080/"
        },
        "outputId": "11f65410-c2b7-4b5c-9ece-4eb21a38f357"
      },
      "execution_count": null,
      "outputs": [
        {
          "output_type": "stream",
          "name": "stdout",
          "text": [
            "dict_keys(['banana', 'monkey', 'broccoli'])\n",
            "dict_values(['an herb', 'a mammal', 'a vegetable'])\n"
          ]
        }
      ]
    },
    {
      "cell_type": "markdown",
      "metadata": {
        "id": "GZVcUoCQqmDh"
      },
      "source": [
        "**Tuples** are also ordered lists of items, but unlike lists they cannot be changed (i.e., they're immutable). Tuples are created using parentheses and their elements can also be accessed using brackets.\n"
      ]
    },
    {
      "cell_type": "code",
      "metadata": {
        "id": "S7mzqXoGreG4",
        "colab": {
          "base_uri": "https://localhost:8080/"
        },
        "outputId": "d7414399-8333-46aa-b396-d43a353a14cd"
      },
      "source": [
        "t = (1, 2, \"cow\")\n",
        "print(t[-1])"
      ],
      "execution_count": null,
      "outputs": [
        {
          "output_type": "stream",
          "name": "stdout",
          "text": [
            "cow\n"
          ]
        }
      ]
    },
    {
      "cell_type": "markdown",
      "source": [
        "### Control Flow\n",
        "\n",
        "Python supports standard control flow keywords such as\n",
        "* `if`/`elif`/`else`\n",
        "    ```\n",
        "    if condition_a:\n",
        "      # do something\n",
        "    elif condition_b:\n",
        "      # do something else\n",
        "    else:\n",
        "      # do something else instead\n",
        "    ```\n",
        "    Note that `elif` and `else` are not necessary.\n",
        "\n",
        "* `for` loops:\n",
        "    ```\n",
        "    for iter_name in iterable: # e.g. a list like [1, 2, 3]\n",
        "      # do something\n",
        "      print(iter_name)\n",
        "    ```\n",
        "    \n",
        "    Note that `iterable` can be any object that can be iterated over in order. Most commonly, `iterable` is a list. Dictionaries are not iterable as they are unordered. A useful built-in function is `range(n)`, which returns an iterable of all integers from 0 to n-1.\n",
        "    \n",
        "\n",
        "### Logic\n",
        "\n",
        "* equals: `==` or `is`\n",
        "    ```\n",
        "    x = 5\n",
        "    if x is 5:\n",
        "      print(\"true\")\n",
        "    else:\n",
        "      print(\"false\")\n",
        "    ```\n",
        "* not: `!` or `not`\n",
        "    ```\n",
        "    x = 5\n",
        "    if x != 5:\n",
        "      print(\"false\"):\n",
        "    elif x is not 8:\n",
        "      print(\"true\")\n",
        "    ```\n",
        "* logical and/or: `and`/`or`\n",
        "* greater/less than: `>`/`<`"
      ],
      "metadata": {
        "id": "NtAmQwqZuNAq"
      }
    },
    {
      "cell_type": "code",
      "source": [
        "for i in range(5):\n",
        "    if i % 2 == 0:\n",
        "        print(i)"
      ],
      "metadata": {
        "id": "uHictnTn72Ut",
        "colab": {
          "base_uri": "https://localhost:8080/"
        },
        "outputId": "42cd1f3f-1f75-4f07-925d-163a373e8a4d"
      },
      "execution_count": null,
      "outputs": [
        {
          "output_type": "stream",
          "name": "stdout",
          "text": [
            "0\n",
            "2\n",
            "4\n"
          ]
        }
      ]
    },
    {
      "cell_type": "markdown",
      "source": [
        "### Object Oriented Programming\n",
        "\n",
        "A Python class contains the blueprints or the prototype from which the objects are being created. It contains some attributes and methods.\n",
        "\n",
        "The ``__init__`` method is a special method that is similar to constructors in C++ and Java. It is run as soon as an object of a class is instantiated.\n",
        "\n",
        "Other class methods must have an extra first parameter in the method definition, named ``self``. We do not give a value for this parameter when we call the method, Python provides it. In the code, ``self`` refers to the current object instance.\n",
        "\n"
      ],
      "metadata": {
        "id": "C-HTMBHWBwjQ"
      }
    },
    {
      "cell_type": "code",
      "source": [
        "class Dog(object):\n",
        "    def __init__(self, name):\n",
        "        self.name = name\n",
        "\n",
        "    def speak(self):\n",
        "        print(\"My name is\", self.name)"
      ],
      "metadata": {
        "id": "VaEH9ES6CaXw"
      },
      "execution_count": null,
      "outputs": []
    },
    {
      "cell_type": "code",
      "source": [
        "# Object instantiation\n",
        "dog1 = Dog(name=\"Rodger\")\n",
        "dog2 = Dog(\"Tommy\")"
      ],
      "metadata": {
        "id": "Rn7uLDJOCrM0"
      },
      "execution_count": null,
      "outputs": []
    },
    {
      "cell_type": "code",
      "source": [
        "# Accessing instance attributes\n",
        "dog1.name"
      ],
      "metadata": {
        "id": "FqgNQtyqCsSK",
        "colab": {
          "base_uri": "https://localhost:8080/",
          "height": 35
        },
        "outputId": "9e6dc69b-020b-4e93-e331-34d6f6c4af17"
      },
      "execution_count": null,
      "outputs": [
        {
          "output_type": "execute_result",
          "data": {
            "text/plain": [
              "'Rodger'"
            ],
            "application/vnd.google.colaboratory.intrinsic+json": {
              "type": "string"
            }
          },
          "metadata": {},
          "execution_count": 23
        }
      ]
    },
    {
      "cell_type": "code",
      "source": [
        "dog2.name"
      ],
      "metadata": {
        "id": "7lEpBeoeCzMo",
        "colab": {
          "base_uri": "https://localhost:8080/",
          "height": 35
        },
        "outputId": "f4e87a4e-8929-4fea-929c-da8d43907d78"
      },
      "execution_count": null,
      "outputs": [
        {
          "output_type": "execute_result",
          "data": {
            "text/plain": [
              "'Tommy'"
            ],
            "application/vnd.google.colaboratory.intrinsic+json": {
              "type": "string"
            }
          },
          "metadata": {},
          "execution_count": 24
        }
      ]
    },
    {
      "cell_type": "code",
      "source": [
        "# Accessing class methods\n",
        "dog1.speak()\n",
        "dog2.speak()"
      ],
      "metadata": {
        "id": "hQKv0wTcCx8B",
        "colab": {
          "base_uri": "https://localhost:8080/"
        },
        "outputId": "b6c6a9bc-1b3c-43e5-df09-5afdb8e50cb3"
      },
      "execution_count": null,
      "outputs": [
        {
          "output_type": "stream",
          "name": "stdout",
          "text": [
            "My name is Rodger\n",
            "My name is Tommy\n"
          ]
        }
      ]
    },
    {
      "cell_type": "code",
      "source": [],
      "metadata": {
        "id": "3p3HRawOE69M"
      },
      "execution_count": null,
      "outputs": []
    },
    {
      "cell_type": "markdown",
      "metadata": {
        "id": "95SfLBiTnb9u"
      },
      "source": [
        "# PyTorch\n",
        "\n",
        "\n",
        "\n",
        "For the rest of the labs, we'll be using PyTorch, one machine learning framework. We'll briefly go over the basics of PyTorch here.\n",
        "\n",
        "The material in this section is borrowed from [here](https://pytorch.org/tutorials/beginner/deep_learning_60min_blitz.html)\n",
        "\n",
        "**What is PyTorch?**\n",
        "\n",
        "PyTorch is a Python-based scientific computing package serving two broad purposes:\n",
        "* A replacement for NumPy to use the power of GPUs and other accelerators.\n",
        "* An automatic differentiation library that is useful to implement neural networks."
      ]
    },
    {
      "cell_type": "markdown",
      "metadata": {
        "id": "hDl9sXELx3XQ"
      },
      "source": [
        "\n",
        "## Tensors\n",
        "\n",
        "\n",
        "Tensors are a specialized data structure that are very similar to arrays and matrices. In PyTorch, we use tensors to encode the inputs and outputs of a model, as well as the model’s parameters.\n",
        "\n",
        "Tensors are similar to NumPy’s ndarrays, except that tensors can run on GPUs or other specialized hardware to accelerate computing. If you’re familiar with ndarrays, you’ll be right at home with the Tensor API. If not, follow along in this quick API walkthrough."
      ]
    },
    {
      "cell_type": "code",
      "metadata": {
        "id": "cufYkqoix_lT"
      },
      "source": [
        "import torch\n",
        "import numpy as np"
      ],
      "execution_count": null,
      "outputs": []
    },
    {
      "cell_type": "markdown",
      "metadata": {
        "id": "LrG3ItA8yARk"
      },
      "source": [
        "### Tensor Initialization\n",
        "\n",
        "Tensors can be initialized in various ways. Take a look at the following examples:\n",
        "\n",
        "**Directly from data**\n",
        "\n",
        "Tensors can be created directly from data. The data type is automatically inferred."
      ]
    },
    {
      "cell_type": "code",
      "metadata": {
        "id": "cBkIzWteyJqn"
      },
      "source": [
        "data = [[1, 2],[3, 4]]\n",
        "x_data = torch.tensor(data)"
      ],
      "execution_count": null,
      "outputs": []
    },
    {
      "cell_type": "code",
      "source": [
        "x_data"
      ],
      "metadata": {
        "colab": {
          "base_uri": "https://localhost:8080/"
        },
        "id": "IAnDIC4gJzf6",
        "outputId": "87210a1f-beea-476f-fa85-1abc86b5c632"
      },
      "execution_count": null,
      "outputs": [
        {
          "output_type": "execute_result",
          "data": {
            "text/plain": [
              "tensor([[1, 2],\n",
              "        [3, 4]])"
            ]
          },
          "metadata": {},
          "execution_count": 28
        }
      ]
    },
    {
      "cell_type": "code",
      "source": [
        "x_data.shape"
      ],
      "metadata": {
        "colab": {
          "base_uri": "https://localhost:8080/"
        },
        "id": "-Qrvm_34KQWQ",
        "outputId": "0e5b29c2-4400-49e2-d64a-1dac918c4f4b"
      },
      "execution_count": null,
      "outputs": [
        {
          "output_type": "execute_result",
          "data": {
            "text/plain": [
              "torch.Size([2, 2])"
            ]
          },
          "metadata": {},
          "execution_count": 29
        }
      ]
    },
    {
      "cell_type": "markdown",
      "metadata": {
        "id": "qGz7Ex5wyWt8"
      },
      "source": [
        "**With constant or random values:**\n",
        "\n",
        "Shape is a tuple of tensor dimensions. We can create tensors of specified shape with constant or random values."
      ]
    },
    {
      "cell_type": "code",
      "metadata": {
        "id": "uOh5LkoqyZ5S",
        "colab": {
          "base_uri": "https://localhost:8080/"
        },
        "outputId": "8a02141b-5818-4eaf-9293-2439544740c8"
      },
      "source": [
        "H, W = x_data.shape\n",
        "\n",
        "x_ones = torch.ones((H, W)) # retains the properties of x_data\n",
        "print(f\"Ones Tensor: \\n {x_ones} \\n\")\n",
        "\n",
        "x_rand = torch.rand((H, W), dtype=torch.float) # overrides the datatype of x_data\n",
        "print(f\"Random Tensor: \\n {x_rand} \\n\")"
      ],
      "execution_count": null,
      "outputs": [
        {
          "output_type": "stream",
          "name": "stdout",
          "text": [
            "Ones Tensor: \n",
            " tensor([[1., 1.],\n",
            "        [1., 1.]]) \n",
            "\n",
            "Random Tensor: \n",
            " tensor([[0.2005, 0.9210],\n",
            "        [0.9861, 0.2325]]) \n",
            "\n"
          ]
        }
      ]
    },
    {
      "cell_type": "markdown",
      "metadata": {
        "id": "LuHfrDrQyiE1"
      },
      "source": [
        "### Tensor Attributes\n",
        "\n",
        "Tensor attributes describe their shape, datatype, and the device on which they are stored."
      ]
    },
    {
      "cell_type": "code",
      "metadata": {
        "id": "l5wNEGQ8ylDz",
        "colab": {
          "base_uri": "https://localhost:8080/"
        },
        "outputId": "1b6de5a6-5f36-499b-c3a4-c95223df3798"
      },
      "source": [
        "tensor = torch.rand(3,4)\n",
        "\n",
        "print(f\"Shape of tensor: {tensor.shape}\")\n",
        "print(f\"Datatype of tensor: {tensor.dtype}\")\n",
        "print(f\"Device tensor is stored on: {tensor.device}\")"
      ],
      "execution_count": null,
      "outputs": [
        {
          "output_type": "stream",
          "name": "stdout",
          "text": [
            "Shape of tensor: torch.Size([3, 4])\n",
            "Datatype of tensor: torch.float32\n",
            "Device tensor is stored on: cpu\n"
          ]
        }
      ]
    },
    {
      "cell_type": "markdown",
      "metadata": {
        "id": "o3R783B6ylzM"
      },
      "source": [
        "### Tensor Operations\n",
        "\n",
        "Over 100 tensor operations, including transposing, indexing, slicing, mathematical operations, linear algebra, random sampling, and more are comprehensively described [here](https://pytorch.org/docs/stable/torch.html).\n",
        "\n",
        "Each of them can be run on the GPU (at typically higher speeds than on a CPU). If you’re using Colab, allocate a GPU by going to Edit > Notebook Settings."
      ]
    },
    {
      "cell_type": "code",
      "metadata": {
        "id": "vERXB6n0yqYJ"
      },
      "source": [
        "# We move our tensor to the GPU if available\n",
        "if torch.cuda.is_available():\n",
        "  tensor = tensor.to('cuda')"
      ],
      "execution_count": null,
      "outputs": []
    },
    {
      "cell_type": "code",
      "source": [
        "tensor.device"
      ],
      "metadata": {
        "colab": {
          "base_uri": "https://localhost:8080/"
        },
        "id": "t6aje6pILVn0",
        "outputId": "896a4e9f-6e39-4b50-cdb4-a21eda2db273"
      },
      "execution_count": null,
      "outputs": [
        {
          "output_type": "execute_result",
          "data": {
            "text/plain": [
              "device(type='cpu')"
            ]
          },
          "metadata": {},
          "execution_count": 33
        }
      ]
    },
    {
      "cell_type": "markdown",
      "metadata": {
        "id": "CFbl5lUHyrDM"
      },
      "source": [
        "Try out some of the operations from the list. If you’re familiar with the NumPy API, you’ll find the Tensor API a breeze to use.\n",
        "\n",
        "**Indexing and slicing:**"
      ]
    },
    {
      "cell_type": "code",
      "metadata": {
        "id": "etlzxjJuywV8"
      },
      "source": [
        "tensor = torch.rand(4, 4)"
      ],
      "execution_count": null,
      "outputs": []
    },
    {
      "cell_type": "code",
      "source": [
        "tensor"
      ],
      "metadata": {
        "colab": {
          "base_uri": "https://localhost:8080/"
        },
        "id": "sQGUwCX7Lfpx",
        "outputId": "7a6d57b6-9cab-4ba1-e8ce-aff0c066dff6"
      },
      "execution_count": null,
      "outputs": [
        {
          "output_type": "execute_result",
          "data": {
            "text/plain": [
              "tensor([[0.6986, 0.5414, 0.7906, 0.0761],\n",
              "        [0.0508, 0.9440, 0.5739, 0.1096],\n",
              "        [0.8479, 0.2090, 0.1259, 0.1537],\n",
              "        [0.5107, 0.7313, 0.0930, 0.9180]])"
            ]
          },
          "metadata": {},
          "execution_count": 38
        }
      ]
    },
    {
      "cell_type": "code",
      "source": [
        "tensor[1]"
      ],
      "metadata": {
        "colab": {
          "base_uri": "https://localhost:8080/"
        },
        "id": "PV6U7oHMLiIE",
        "outputId": "7b0b7e67-490a-4b4b-d975-5bc31c4e97f4"
      },
      "execution_count": null,
      "outputs": [
        {
          "output_type": "execute_result",
          "data": {
            "text/plain": [
              "tensor([0.0508, 0.9440, 0.5739, 0.1096])"
            ]
          },
          "metadata": {},
          "execution_count": 39
        }
      ]
    },
    {
      "cell_type": "code",
      "source": [
        "tensor[:,1] = 0\n",
        "print(tensor)"
      ],
      "metadata": {
        "colab": {
          "base_uri": "https://localhost:8080/"
        },
        "id": "sJ7CoD__Ltb1",
        "outputId": "efd46f46-db9e-4a2a-d794-2c63bf1ab732"
      },
      "execution_count": null,
      "outputs": [
        {
          "output_type": "stream",
          "name": "stdout",
          "text": [
            "tensor([[0.6986, 0.0000, 0.7906, 0.0761],\n",
            "        [0.0508, 0.0000, 0.5739, 0.1096],\n",
            "        [0.8479, 0.0000, 0.1259, 0.1537],\n",
            "        [0.5107, 0.0000, 0.0930, 0.9180]])\n"
          ]
        }
      ]
    },
    {
      "cell_type": "code",
      "source": [
        "tensor[1:3, 2:4]"
      ],
      "metadata": {
        "colab": {
          "base_uri": "https://localhost:8080/"
        },
        "id": "QtQEQH3HL5hw",
        "outputId": "8deaf68f-3a4b-4d94-c520-b375ef655016"
      },
      "execution_count": null,
      "outputs": [
        {
          "output_type": "execute_result",
          "data": {
            "text/plain": [
              "tensor([[0.5739, 0.1096],\n",
              "        [0.1259, 0.1537]])"
            ]
          },
          "metadata": {},
          "execution_count": 41
        }
      ]
    },
    {
      "cell_type": "markdown",
      "metadata": {
        "id": "peBOM6_Wyw0v"
      },
      "source": [
        "**Joining tensors** You can use torch.cat to concatenate a sequence of tensors along a given dimension. See also torch.stack, another tensor joining op that is subtly different from torch.cat."
      ]
    },
    {
      "cell_type": "code",
      "metadata": {
        "id": "gnM7q14Fy1OP",
        "colab": {
          "base_uri": "https://localhost:8080/"
        },
        "outputId": "79d5ae0b-0935-44c8-d82b-2fda96505a51"
      },
      "source": [
        "t1 = torch.cat([tensor, tensor, tensor], dim=1)\n",
        "print(t1)"
      ],
      "execution_count": null,
      "outputs": [
        {
          "output_type": "stream",
          "name": "stdout",
          "text": [
            "tensor([[0.6986, 0.0000, 0.7906, 0.0761, 0.6986, 0.0000, 0.7906, 0.0761, 0.6986,\n",
            "         0.0000, 0.7906, 0.0761],\n",
            "        [0.0508, 0.0000, 0.5739, 0.1096, 0.0508, 0.0000, 0.5739, 0.1096, 0.0508,\n",
            "         0.0000, 0.5739, 0.1096],\n",
            "        [0.8479, 0.0000, 0.1259, 0.1537, 0.8479, 0.0000, 0.1259, 0.1537, 0.8479,\n",
            "         0.0000, 0.1259, 0.1537],\n",
            "        [0.5107, 0.0000, 0.0930, 0.9180, 0.5107, 0.0000, 0.0930, 0.9180, 0.5107,\n",
            "         0.0000, 0.0930, 0.9180]])\n"
          ]
        }
      ]
    },
    {
      "cell_type": "markdown",
      "metadata": {
        "id": "X7cHyirby4EP"
      },
      "source": [
        "**Multiplying tensors**"
      ]
    },
    {
      "cell_type": "code",
      "source": [
        "tensor"
      ],
      "metadata": {
        "colab": {
          "base_uri": "https://localhost:8080/"
        },
        "id": "RUTZE0JAMmKz",
        "outputId": "ec187bd0-6efd-4c4c-c3be-9923d03b6d68"
      },
      "execution_count": null,
      "outputs": [
        {
          "output_type": "execute_result",
          "data": {
            "text/plain": [
              "tensor([[0.8212, 0.4926, 0.0753, 0.2879],\n",
              "        [0.7353, 0.1215, 0.9958, 0.5032],\n",
              "        [0.0921, 0.1040, 0.1170, 0.5537],\n",
              "        [0.6406, 0.7512, 0.2604, 0.7975]])"
            ]
          },
          "metadata": {},
          "execution_count": 44
        }
      ]
    },
    {
      "cell_type": "code",
      "metadata": {
        "id": "nxqQjiehy7Df",
        "colab": {
          "base_uri": "https://localhost:8080/"
        },
        "outputId": "2120d589-50eb-4383-b81d-d86aed0f2e26"
      },
      "source": [
        "# This computes the element-wise product\n",
        "print(f\"tensor.mul(tensor) \\n {tensor.mul(tensor)} \\n\")\n",
        "# Alternative syntax:\n",
        "print(f\"tensor * tensor \\n {tensor * tensor}\")"
      ],
      "execution_count": null,
      "outputs": [
        {
          "output_type": "stream",
          "name": "stdout",
          "text": [
            "tensor.mul(tensor) \n",
            " tensor([[0.6744, 0.2426, 0.0057, 0.0829],\n",
            "        [0.5407, 0.0148, 0.9916, 0.2532],\n",
            "        [0.0085, 0.0108, 0.0137, 0.3066],\n",
            "        [0.4104, 0.5644, 0.0678, 0.6360]]) \n",
            "\n",
            "tensor * tensor \n",
            " tensor([[0.6744, 0.2426, 0.0057, 0.0829],\n",
            "        [0.5407, 0.0148, 0.9916, 0.2532],\n",
            "        [0.0085, 0.0108, 0.0137, 0.3066],\n",
            "        [0.4104, 0.5644, 0.0678, 0.6360]])\n"
          ]
        }
      ]
    },
    {
      "cell_type": "markdown",
      "metadata": {
        "id": "fC5CT5Xmy74m"
      },
      "source": [
        "This computes the matrix multiplication between two tensors\n",
        "\n"
      ]
    },
    {
      "cell_type": "code",
      "metadata": {
        "id": "czIxXEJmy_oa",
        "colab": {
          "base_uri": "https://localhost:8080/"
        },
        "outputId": "75c16feb-2dc5-4855-f9ea-92fa9c9a124e"
      },
      "source": [
        "print(f\"tensor.matmul(tensor.T) \\n {tensor.matmul(tensor.T)} \\n\")\n",
        "# Alternative syntax:\n",
        "print(f\"tensor @ tensor.T \\n {tensor @ tensor.T}\")"
      ],
      "execution_count": null,
      "outputs": [
        {
          "output_type": "stream",
          "name": "stdout",
          "text": [
            "tensor.matmul(tensor.T) \n",
            " tensor([[1.0056, 0.8835, 0.2951, 1.1453],\n",
            "        [0.8835, 1.8003, 0.4755, 1.2229],\n",
            "        [0.2951, 0.4755, 0.3396, 0.6092],\n",
            "        [1.1453, 1.2229, 0.6092, 1.6785]]) \n",
            "\n",
            "tensor @ tensor.T \n",
            " tensor([[1.0056, 0.8835, 0.2951, 1.1453],\n",
            "        [0.8835, 1.8003, 0.4755, 1.2229],\n",
            "        [0.2951, 0.4755, 0.3396, 0.6092],\n",
            "        [1.1453, 1.2229, 0.6092, 1.6785]])\n"
          ]
        }
      ]
    },
    {
      "cell_type": "markdown",
      "metadata": {
        "id": "Yolxt60MzGYC"
      },
      "source": [
        "**In-place operations** Operations that have a _ suffix are in-place. For example: x.copy_(y), x.t_(), will change x."
      ]
    },
    {
      "cell_type": "code",
      "metadata": {
        "id": "4nZcFQggzJ-4",
        "colab": {
          "base_uri": "https://localhost:8080/"
        },
        "outputId": "662e63a5-713f-412b-cfce-cdb3a26a0dde"
      },
      "source": [
        "print(tensor, \"\\n\")\n",
        "tensor.add_(5)\n",
        "# tensor += 5\n",
        "print(tensor)"
      ],
      "execution_count": null,
      "outputs": [
        {
          "output_type": "stream",
          "name": "stdout",
          "text": [
            "tensor([[5.8212, 5.4926, 5.0753, 5.2879],\n",
            "        [5.7353, 5.1215, 5.9958, 5.5032],\n",
            "        [5.0921, 5.1040, 5.1170, 5.5537],\n",
            "        [5.6406, 5.7512, 5.2604, 5.7975]]) \n",
            "\n",
            "tensor([[10.8212, 10.4926, 10.0753, 10.2879],\n",
            "        [10.7353, 10.1215, 10.9958, 10.5032],\n",
            "        [10.0921, 10.1040, 10.1170, 10.5537],\n",
            "        [10.6406, 10.7512, 10.2604, 10.7975]])\n"
          ]
        }
      ]
    },
    {
      "cell_type": "markdown",
      "metadata": {
        "id": "wFH7BFNeUk2h"
      },
      "source": [
        "# Regression\n",
        "\n",
        "Regression is the general problem of predicting the value of some quantity of interest given some inputs. Many real-world problems are regression problems, such as predicting\n",
        "* how much money a movie will make\n",
        "* the score of a basketball game\n",
        "* the number of COVID cases\n",
        "\n",
        "More formally, we describe the regression problem as learning a relationship, or function $f$, between a vector of **input features $x$** and an **output value $y$**. When we evaluate $f$ on a new input $x$, we want the model's prediction $f(x)$ to be close to the actual output $y$.\n",
        "\n",
        "## Data\n",
        "\n",
        "Before we discuss what the function $f$ looks like, we will first take a look at the data, which are the ($x$, $y$) pairs. For regression, the output value $y$ will be a scalar number. The input $x$ is a vector, each entry of which we call an **input feature**. An input feature is some property of the underlying problem that we believe might be predictive of the output. For example, if we are interested in predicting how well someone will score on a test, we might use the number of hours slept the night before as a feature. Though we don't know the exact mathematical relationship between an input feature and the output, we hope that our machine learning methods can learn a function that's close to the true relationship.\n",
        "\n",
        "For this lab, we'll use a dataset of neighborhood features and try to predict the average house value (in units of 100K) in that neighborhood, though the methods used here will be applicable to any regression dataset you're interested in. We'll load this dataset using Scikit-learn; you can read about it [here](https://scikit-learn.org/stable/datasets/real_world.html#california-housing-dataset)."
      ]
    },
    {
      "cell_type": "code",
      "source": [
        "import numpy as np\n",
        "import pandas as pd\n",
        "import matplotlib.pyplot as plt\n",
        "from sklearn.datasets import fetch_california_housing"
      ],
      "metadata": {
        "id": "CEef1_h7G6Y_"
      },
      "execution_count": null,
      "outputs": []
    },
    {
      "cell_type": "code",
      "metadata": {
        "id": "jjzV4GluXkxM",
        "colab": {
          "base_uri": "https://localhost:8080/"
        },
        "outputId": "33a09508-284e-4f2b-c1b9-2dc222eeeba2"
      },
      "source": [
        "data = fetch_california_housing()\n",
        "X, y = data['data'], data['target']\n",
        "print(X.shape)\n",
        "print(y.shape)"
      ],
      "execution_count": null,
      "outputs": [
        {
          "output_type": "stream",
          "name": "stdout",
          "text": [
            "(20640, 8)\n",
            "(20640,)\n"
          ]
        }
      ]
    },
    {
      "cell_type": "markdown",
      "metadata": {
        "id": "GqBKjxHMbAJ3"
      },
      "source": [
        "In using machine learning methods, it's important that we first understand the data we're using to make sure the methods we're using are appropriate for the task at hand.\n",
        "\n",
        "Let's first understand how much data we have and what a few examples from the dataset look like.\n",
        "\n",
        "**Exercise**: Write code to do the following\n",
        "* Print the first 5 examples\n",
        "* Determine the number of data points we have\n",
        "* Print the min, max, mean and median values for a feature."
      ]
    },
    {
      "cell_type": "code",
      "metadata": {
        "id": "CUByuXDimjvb",
        "colab": {
          "base_uri": "https://localhost:8080/"
        },
        "outputId": "ae145e77-5a1c-4b0f-e798-8bf0df008208"
      },
      "source": [
        "# YOUR CODE HERE\n",
        "X = torch.tensor(X)\n",
        "y = torch.tensor(y)"
      ],
      "execution_count": null,
      "outputs": [
        {
          "output_type": "stream",
          "name": "stderr",
          "text": [
            "<ipython-input-54-319ac6168d82>:2: UserWarning: To copy construct from a tensor, it is recommended to use sourceTensor.clone().detach() or sourceTensor.clone().detach().requires_grad_(True), rather than torch.tensor(sourceTensor).\n",
            "  X = torch.tensor(X)\n"
          ]
        }
      ]
    },
    {
      "cell_type": "code",
      "source": [
        "print(X[:5])\n",
        "print(y[:5])"
      ],
      "metadata": {
        "colab": {
          "base_uri": "https://localhost:8080/"
        },
        "id": "3qH9N9RBSFwr",
        "outputId": "b52def80-91fd-4e76-c201-b959f9aa4940"
      },
      "execution_count": null,
      "outputs": [
        {
          "output_type": "stream",
          "name": "stdout",
          "text": [
            "tensor([[ 8.3252e+00,  4.1000e+01,  6.9841e+00,  1.0238e+00,  3.2200e+02,\n",
            "          2.5556e+00,  3.7880e+01, -1.2223e+02],\n",
            "        [ 8.3014e+00,  2.1000e+01,  6.2381e+00,  9.7188e-01,  2.4010e+03,\n",
            "          2.1098e+00,  3.7860e+01, -1.2222e+02],\n",
            "        [ 7.2574e+00,  5.2000e+01,  8.2881e+00,  1.0734e+00,  4.9600e+02,\n",
            "          2.8023e+00,  3.7850e+01, -1.2224e+02],\n",
            "        [ 5.6431e+00,  5.2000e+01,  5.8174e+00,  1.0731e+00,  5.5800e+02,\n",
            "          2.5479e+00,  3.7850e+01, -1.2225e+02],\n",
            "        [ 3.8462e+00,  5.2000e+01,  6.2819e+00,  1.0811e+00,  5.6500e+02,\n",
            "          2.1815e+00,  3.7850e+01, -1.2225e+02]], dtype=torch.float64)\n",
            "tensor([4.5260, 3.5850, 3.5210, 3.4130, 3.4220], dtype=torch.float64)\n"
          ]
        }
      ]
    },
    {
      "cell_type": "code",
      "source": [
        "# Number of data points\n",
        "X.shape[0]"
      ],
      "metadata": {
        "colab": {
          "base_uri": "https://localhost:8080/"
        },
        "id": "9naaFSzAScx4",
        "outputId": "a410ccf0-9d47-46b4-d325-d43f454a8190"
      },
      "execution_count": null,
      "outputs": [
        {
          "output_type": "execute_result",
          "data": {
            "text/plain": [
              "20640"
            ]
          },
          "metadata": {},
          "execution_count": 56
        }
      ]
    },
    {
      "cell_type": "code",
      "source": [
        "def print_stats(idx):\n",
        "    print(\"Feature\", data['feature_names'][idx])\n",
        "    print(\"Mean\", X[:, idx].mean())\n",
        "    print(\"Median\", X[:, idx].median())\n",
        "    print(\"Min\", X[:, idx].min())\n",
        "    print(\"Max\", X[:, idx].max())"
      ],
      "metadata": {
        "id": "Dz5kMUFpSv77"
      },
      "execution_count": null,
      "outputs": []
    },
    {
      "cell_type": "code",
      "source": [
        "print_stats(2)"
      ],
      "metadata": {
        "colab": {
          "base_uri": "https://localhost:8080/"
        },
        "id": "qAE_vpsJTBoO",
        "outputId": "0c839b36-4c17-464b-9c94-58142f82432e"
      },
      "execution_count": null,
      "outputs": [
        {
          "output_type": "stream",
          "name": "stdout",
          "text": [
            "Feature AveRooms\n",
            "Mean tensor(5.4290, dtype=torch.float64)\n",
            "Median tensor(5.2291, dtype=torch.float64)\n",
            "Min tensor(0.8462, dtype=torch.float64)\n",
            "Max tensor(141.9091, dtype=torch.float64)\n"
          ]
        }
      ]
    },
    {
      "cell_type": "markdown",
      "metadata": {
        "id": "iESYSId0mn0W"
      },
      "source": [
        "Next, let's plot the data to get a sense of what it looks like.\n",
        "Since the input consists of multiple features, we'll pick out one feature at a time and see what it looks like compared to the housing price.\n",
        "\n",
        "**Exercise**: Write a function that takes in the index of a feature to look at, and generates the plot for that feature. You may want to google the usage of `plt.scatter()`."
      ]
    },
    {
      "cell_type": "code",
      "metadata": {
        "id": "0DIullDrXylV"
      },
      "source": [
        "# YOUR CODE HERE\n",
        "def plot_feature(idx):\n",
        "    plt.scatter(X[:, idx], y)\n",
        "    plt.ylabel(\"Average Housing Price\")\n",
        "    plt.xlabel(data['feature_names'][idx])\n",
        "    plt.show()\n"
      ],
      "execution_count": null,
      "outputs": []
    },
    {
      "cell_type": "code",
      "source": [
        "plot_feature(0)"
      ],
      "metadata": {
        "colab": {
          "base_uri": "https://localhost:8080/",
          "height": 449
        },
        "id": "8oo_J78XTw05",
        "outputId": "345cd1b1-155b-4111-a24b-8823c26b3986"
      },
      "execution_count": null,
      "outputs": [
        {
          "output_type": "display_data",
          "data": {
            "text/plain": [
              "<Figure size 640x480 with 1 Axes>"
            ],
            "image/png": "[encoded data removed]"
          },
          "metadata": {}
        }
      ]
    },
    {
      "cell_type": "markdown",
      "source": [
        "Here we provide some code that visualizes the distribution of each input feature with histograms. You do not need to fully understand how the code works."
      ],
      "metadata": {
        "id": "LyA3dPZbHhQo"
      }
    },
    {
      "cell_type": "code",
      "source": [
        "feature_names = data['feature_names']\n",
        "df = pd.DataFrame(X, columns=feature_names)\n",
        "df['Target'] = y"
      ],
      "metadata": {
        "id": "Mu15-zyNHFKl"
      },
      "execution_count": null,
      "outputs": []
    },
    {
      "cell_type": "code",
      "source": [
        "# Plot the distribution of each feature\n",
        "df.hist(bins=30, figsize=(15, 10), layout=(3, 3))\n",
        "plt.suptitle('Feature Distributions', fontsize=16)\n",
        "plt.show()"
      ],
      "metadata": {
        "id": "YqzB_q1wHHUm",
        "colab": {
          "base_uri": "https://localhost:8080/",
          "height": 736
        },
        "outputId": "0500ffd9-8f00-4058-98e8-0594a835b399"
      },
      "execution_count": null,
      "outputs": [
        {
          "output_type": "display_data",
          "data": {
            "text/plain": [
              "<Figure size 1500x1000 with 9 Axes>"
            ],
            "image/png": "[encoded data removed]"
          },
          "metadata": {}
        }
      ]
    },
    {
      "cell_type": "markdown",
      "metadata": {
        "id": "1qeeDudgg704"
      },
      "source": [
        "We can apply any transformations to the data that we think will help surface useful signal to our machine learning model. There is a lot of freedom and room for domain expertise in designing input features for any particular task. Here we use one of the most common preprocessing schemes called **standardization**, which removes the mean of each feature and scales it to unit variance."
      ]
    },
    {
      "cell_type": "code",
      "source": [
        "from sklearn.preprocessing import StandardScaler\n",
        "# Standardize the features\n",
        "scaler = StandardScaler()\n",
        "X = scaler.fit_transform(X)"
      ],
      "metadata": {
        "id": "QYmv4R6PIP_a"
      },
      "execution_count": null,
      "outputs": []
    },
    {
      "cell_type": "code",
      "source": [
        "X[:5]"
      ],
      "metadata": {
        "colab": {
          "base_uri": "https://localhost:8080/"
        },
        "id": "V7eMrnd8VbNi",
        "outputId": "6969053f-ac46-41a2-a69a-12cdbb6d8fc8"
      },
      "execution_count": null,
      "outputs": [
        {
          "output_type": "execute_result",
          "data": {
            "text/plain": [
              "array([[ 2.34476576,  0.98214266,  0.62855945, -0.15375759, -0.9744286 ,\n",
              "        -0.04959654,  1.05254828, -1.32783522],\n",
              "       [ 2.33223796, -0.60701891,  0.32704136, -0.26333577,  0.86143887,\n",
              "        -0.09251223,  1.04318455, -1.32284391],\n",
              "       [ 1.7826994 ,  1.85618152,  1.15562047, -0.04901636, -0.82077735,\n",
              "        -0.02584253,  1.03850269, -1.33282653],\n",
              "       [ 0.93296751,  1.85618152,  0.15696608, -0.04983292, -0.76602806,\n",
              "        -0.0503293 ,  1.03850269, -1.33781784],\n",
              "       [-0.012881  ,  1.85618152,  0.3447108 , -0.03290586, -0.75984669,\n",
              "        -0.08561576,  1.03850269, -1.33781784]])"
            ]
          },
          "metadata": {},
          "execution_count": 71
        }
      ]
    },
    {
      "cell_type": "markdown",
      "source": [
        "When training a machine learning model, we don't just care about how well our model does on our data, but also any future data we might receive. In order to see how well our learned model performs on future data, we can split up our dataset into a **training set** and a **test set**."
      ],
      "metadata": {
        "id": "PY2CtlfKI_X4"
      }
    },
    {
      "cell_type": "code",
      "source": [
        "from sklearn.model_selection import train_test_split\n",
        "\n",
        "# Convert to PyTorch tensors\n",
        "X = torch.tensor(X, dtype=torch.float32)\n",
        "y = torch.tensor(y, dtype=torch.float32).unsqueeze(1)  # add a dimension for the target\n",
        "\n",
        "# Split the data into train and test sets\n",
        "X_train, X_test, y_train, y_test = train_test_split(X, y, test_size=0.2)"
      ],
      "metadata": {
        "id": "SnIan84zJK7R",
        "colab": {
          "base_uri": "https://localhost:8080/"
        },
        "outputId": "d6155964-bed1-436a-d49a-ef6930be25a4"
      },
      "execution_count": null,
      "outputs": [
        {
          "output_type": "stream",
          "name": "stderr",
          "text": [
            "<ipython-input-72-ff69dafd3616>:5: UserWarning: To copy construct from a tensor, it is recommended to use sourceTensor.clone().detach() or sourceTensor.clone().detach().requires_grad_(True), rather than torch.tensor(sourceTensor).\n",
            "  y = torch.tensor(y, dtype=torch.float32).unsqueeze(1)  # add a dimension for the target\n"
          ]
        }
      ]
    },
    {
      "cell_type": "code",
      "source": [
        "X_train.shape"
      ],
      "metadata": {
        "colab": {
          "base_uri": "https://localhost:8080/"
        },
        "id": "amelyvezWNZf",
        "outputId": "ae23f234-170b-4ff5-fd59-04004cda51e6"
      },
      "execution_count": null,
      "outputs": [
        {
          "output_type": "execute_result",
          "data": {
            "text/plain": [
              "torch.Size([16512, 8])"
            ]
          },
          "metadata": {},
          "execution_count": 73
        }
      ]
    },
    {
      "cell_type": "code",
      "source": [
        "y_train.shape"
      ],
      "metadata": {
        "colab": {
          "base_uri": "https://localhost:8080/"
        },
        "id": "5xsIY1woWvKJ",
        "outputId": "29378557-2054-41eb-ff5c-0ad246ec2bf4"
      },
      "execution_count": null,
      "outputs": [
        {
          "output_type": "execute_result",
          "data": {
            "text/plain": [
              "torch.Size([16512, 1])"
            ]
          },
          "metadata": {},
          "execution_count": 75
        }
      ]
    },
    {
      "cell_type": "markdown",
      "metadata": {
        "id": "wlAAwyaRY3vw"
      },
      "source": [
        "\n",
        "## Model\n",
        "\n",
        "Now that we have looked at our data, we need to pick a type of model to learn from our data.\n",
        "For this lab, we will use a simple linear model, where we assume that the relationship between the output variable and each input feature is linear.\n",
        "\n",
        "Mathematically, we write this model as\n",
        "$$ y = f(x) = b + \\sum_{i=1}^m w_i x_i $$\n",
        "where $i$ indexes each dimension in the $m$-dimensional input feature vector $x$.\n",
        "Together, the $w_i$ and $b$ are called the **weights** or **parameters** of the model.\n",
        "If $x$ is 1-dimensional, then we get $y = wx + b$; if $x$ is 2-dimensional, then we get $y = w_1 x_1 + w_2 x_2 + b$; and so forth.\n",
        "Alternatively, we can write this as the dot product between the weights and the inputs\n",
        "$$ y = x \\cdot w $$\n",
        "where $w$ is a vector representation of the $w_i$. To properly account for the bias term $b$, we append $b$ to $w$ (so that $w$ is $[w_1; w_2; \\dots; w_m; b]$) and append a 1 to the input features $x$."
      ]
    },
    {
      "cell_type": "markdown",
      "source": [
        "\n",
        "**Exercise**.\n",
        "Let's write a function which takes in some weights $w$ and $b$ and an input $x$ and outputs the $y$ computed by this model. You can use a for-loop, but we recommend using a vector product (you might find `torch.dot()` useful)."
      ],
      "metadata": {
        "id": "Lz5hv1g4hOUt"
      }
    },
    {
      "cell_type": "code",
      "source": [
        "def linear(x, w, b):\n",
        "  return torch.dot(w, x) + b\n",
        "\n",
        "assert linear(torch.tensor([1]), torch.tensor([10]), 10) == 20"
      ],
      "metadata": {
        "id": "dGU1-Ym8hWFc"
      },
      "execution_count": null,
      "outputs": []
    },
    {
      "cell_type": "markdown",
      "source": [
        "## Models in PyTorch\n",
        "\n",
        "PyTorch provides a submodule for implementing and building machine learning models called `torch.nn` (`nn` for neural networks). `nn` implements many common mathematical transformations as functions that can be chained together to build machine learning modules. Let's go over an example of creating and using logistic regression in PyTorch."
      ],
      "metadata": {
        "id": "wzuLf7XHJki_"
      }
    },
    {
      "cell_type": "code",
      "source": [
        "import torch.nn as nn\n",
        "import torch.optim as optim"
      ],
      "metadata": {
        "id": "tcKW6LAzJvU8"
      },
      "execution_count": null,
      "outputs": []
    },
    {
      "cell_type": "markdown",
      "source": [
        "We implement models as classes that inherit from `nn.Module`.  \n",
        "We initialize modules (and implicitly parameters) in `model.__init__()` and save them as attributes of the model.   \n",
        "We then define the actual math of the model in `model.forward()`."
      ],
      "metadata": {
        "id": "W6hDMBszFVa8"
      }
    },
    {
      "cell_type": "code",
      "source": [
        "# Define the regression model\n",
        "class LinearRegressionModel(nn.Module):\n",
        "\n",
        "    def __init__(self, input_dim):\n",
        "        super(LinearRegressionModel, self).__init__()\n",
        "        self.linear = nn.Linear(input_dim, 1)\n",
        "\n",
        "    def forward(self, input):\n",
        "        outputs = self.linear(input)  # includes the bias term\n",
        "        return outputs\n"
      ],
      "metadata": {
        "id": "AIu5IsQ6JpaQ"
      },
      "execution_count": null,
      "outputs": []
    },
    {
      "cell_type": "markdown",
      "source": [
        "**Exercise**.\n",
        "1. Print the shape of inputs to decide the dimensions of `input_dim`\n",
        "2. Instantiate the model\n",
        "3. Print the model\n",
        "4. Print model weights and bias\n",
        "5. Create dummy input, pass to the model, and print model output"
      ],
      "metadata": {
        "id": "giMOQd7aiBDY"
      }
    },
    {
      "cell_type": "code",
      "source": [
        "X_train.shape"
      ],
      "metadata": {
        "colab": {
          "base_uri": "https://localhost:8080/"
        },
        "id": "5XOcf4xRacWp",
        "outputId": "0d5abe42-47ee-486a-f9be-583dbdc139c5"
      },
      "execution_count": null,
      "outputs": [
        {
          "output_type": "execute_result",
          "data": {
            "text/plain": [
              "torch.Size([16512, 8])"
            ]
          },
          "metadata": {},
          "execution_count": 82
        }
      ]
    },
    {
      "cell_type": "code",
      "source": [
        "# 1. Print the shape of inputs to decide the number of input dimensions\n",
        "input_dim = X_train.shape[1]\n",
        "\n",
        "# 2. Instantiate the model\n",
        "model = LinearRegressionModel(input_dim=input_dim)\n",
        "\n",
        "# 3. Print the model\n",
        "print(model)"
      ],
      "metadata": {
        "id": "sh8f1kafJx5b",
        "colab": {
          "base_uri": "https://localhost:8080/"
        },
        "outputId": "716d4503-7eac-4d27-bc43-8c81f2899aa0"
      },
      "execution_count": null,
      "outputs": [
        {
          "output_type": "stream",
          "name": "stdout",
          "text": [
            "LinearRegressionModel(\n",
            "  (linear): Linear(in_features=8, out_features=1, bias=True)\n",
            ")\n"
          ]
        }
      ]
    },
    {
      "cell_type": "markdown",
      "source": [
        "After we create an instance of the model, we can inspect the weights of each layer:"
      ],
      "metadata": {
        "id": "qe3GYbBMFFvq"
      }
    },
    {
      "cell_type": "code",
      "source": [
        "# 4. Print model weights and bias\n",
        "model.linear.weight"
      ],
      "metadata": {
        "id": "8JMbtsDjJ1-g",
        "colab": {
          "base_uri": "https://localhost:8080/"
        },
        "outputId": "92c7d4ae-23ac-4134-f295-b4bb4b883c37"
      },
      "execution_count": null,
      "outputs": [
        {
          "output_type": "execute_result",
          "data": {
            "text/plain": [
              "Parameter containing:\n",
              "tensor([[-0.1519,  0.0375,  0.3350,  0.2417,  0.0768,  0.0385, -0.1032,  0.0623]],\n",
              "       requires_grad=True)"
            ]
          },
          "metadata": {},
          "execution_count": 87
        }
      ]
    },
    {
      "cell_type": "code",
      "source": [
        "model.linear.bias"
      ],
      "metadata": {
        "colab": {
          "base_uri": "https://localhost:8080/"
        },
        "id": "1-_oNgWrbAyY",
        "outputId": "cb449ef9-ec8e-4777-cac8-e26b71ce294a"
      },
      "execution_count": null,
      "outputs": [
        {
          "output_type": "execute_result",
          "data": {
            "text/plain": [
              "Parameter containing:\n",
              "tensor([0.1708], requires_grad=True)"
            ]
          },
          "metadata": {},
          "execution_count": 88
        }
      ]
    },
    {
      "cell_type": "markdown",
      "source": [
        "We can call the model as a function, which will under the hood call `model.forward()`"
      ],
      "metadata": {
        "id": "1QmIbkggFOeA"
      }
    },
    {
      "cell_type": "code",
      "source": [
        "# 5. Create dummy input and pass to the model\n",
        "dummy_input = torch.rand(2, input_dim)\n",
        "dummy_output = model(dummy_input)"
      ],
      "metadata": {
        "id": "OuWo-0HtJ3qP"
      },
      "execution_count": null,
      "outputs": []
    },
    {
      "cell_type": "code",
      "source": [
        "dummy_input"
      ],
      "metadata": {
        "colab": {
          "base_uri": "https://localhost:8080/"
        },
        "id": "nInZGcj-bafM",
        "outputId": "b68dab86-069e-447d-d2c9-581199e7bd92"
      },
      "execution_count": null,
      "outputs": [
        {
          "output_type": "execute_result",
          "data": {
            "text/plain": [
              "tensor([[0.3611, 0.7062, 0.0054, 0.1630, 0.6774, 0.9494, 0.0308, 0.3486],\n",
              "        [0.4187, 0.8806, 0.2291, 0.3630, 0.4480, 0.8562, 0.3805, 0.0340]])"
            ]
          },
          "metadata": {},
          "execution_count": 90
        }
      ]
    },
    {
      "cell_type": "code",
      "source": [
        "dummy_output"
      ],
      "metadata": {
        "colab": {
          "base_uri": "https://localhost:8080/"
        },
        "id": "mqo8D6mtbb14",
        "outputId": "3fc25c8b-b8b9-4852-d586-5beadad6febf"
      },
      "execution_count": null,
      "outputs": [
        {
          "output_type": "execute_result",
          "data": {
            "text/plain": [
              "tensor([[0.2908],\n",
              "        [0.3349]], grad_fn=<AddmmBackward0>)"
            ]
          },
          "metadata": {},
          "execution_count": 91
        }
      ]
    },
    {
      "cell_type": "markdown",
      "metadata": {
        "id": "yWFgioDar8J6"
      },
      "source": [
        "\n",
        "## Training\n",
        "\n",
        "In order to use this model, we need to first set the value of the weights. But, we don't know what the ''right'' values are.\n",
        "In order to do so, we first need to be able to say what constitutes good weights. Then, we can introduce an **objective function** that measures how good any set of weights are. Given this objective function, the best weights are the ones that maximize (or minimize) the objective function.\n",
        "\n",
        "For regression, we'll use the **residual sum of squares** (RSS):\n",
        "$$ L(w) = \\sum_{d \\in D} (y_d - f(x_d))^2 = \\sum_{d \\in D} (y_d - w \\cdot x_d)^2 $$\n",
        "where $D$ is our dataset of $(x ,y)$ pairs. Intuitively, this objective function looks at the distance from our model's predictions to the actual output. To pick the best $w$, then, we want to minimize this objective function."
      ]
    },
    {
      "cell_type": "code",
      "metadata": {
        "id": "Rh-DDk8aoD4h",
        "colab": {
          "base_uri": "https://localhost:8080/"
        },
        "outputId": "a7b46a10-fc50-4c5b-f439-27e0e44f6ca9"
      },
      "source": [
        "# Instantiate the model\n",
        "model = LinearRegressionModel(input_dim)\n",
        "\n",
        "# Define the loss function and optimizer\n",
        "criterion = nn.MSELoss()\n",
        "optimizer = optim.SGD(model.parameters(), lr=0.01)\n",
        "\n",
        "# Training loop with loss tracking\n",
        "num_epochs = 100\n",
        "\n",
        "# Initialize the train_losses and test_losses and empty lists\n",
        "train_losses = []\n",
        "test_losses = []\n",
        "\n",
        "for epoch in range(num_epochs):\n",
        "    model.train()\n",
        "\n",
        "    # Forward pass\n",
        "    # Call the model\n",
        "    outputs = model(X_train)\n",
        "    loss = criterion(outputs, y_train)\n",
        "\n",
        "    # Backward pass and optimization\n",
        "    optimizer.zero_grad()\n",
        "    loss.backward()\n",
        "    optimizer.step()\n",
        "\n",
        "    # Track the loss\n",
        "    # Append the loss to the train_losses list\n",
        "    train_losses.append(loss.item())\n",
        "\n",
        "    # Evaluate on test data\n",
        "    model.eval()\n",
        "    with torch.no_grad():\n",
        "        test_outputs = model(X_test)\n",
        "        test_loss = criterion(test_outputs, y_test).item()\n",
        "        # Append the loss to the test_losses list\n",
        "        test_losses.append(test_loss)\n",
        "\n",
        "    # Print the train and test loss when the current epoch divided by 10 gives a remainder of zero\n",
        "    if (epoch + 1) % 10 == 0:\n",
        "        print(\"Epoch\", epoch+1)\n",
        "        print(\"Train loss\", loss.item())\n",
        "        print(\"test loss\", test_loss)\n"
      ],
      "execution_count": null,
      "outputs": [
        {
          "output_type": "stream",
          "name": "stdout",
          "text": [
            "Epoch 10\n",
            "Train loss 5.146739959716797\n",
            "test loss 4.801764011383057\n",
            "Epoch 20\n",
            "Train loss 3.6502766609191895\n",
            "test loss 3.399188756942749\n",
            "Epoch 30\n",
            "Train loss 2.6568503379821777\n",
            "test loss 2.469644546508789\n",
            "Epoch 40\n",
            "Train loss 1.9943445920944214\n",
            "test loss 1.8510557413101196\n",
            "Epoch 50\n",
            "Train loss 1.550779938697815\n",
            "test loss 1.4380072355270386\n",
            "Epoch 60\n",
            "Train loss 1.25269615650177\n",
            "test loss 1.16136634349823\n",
            "Epoch 70\n",
            "Train loss 1.0516091585159302\n",
            "test loss 0.9755241870880127\n",
            "Epoch 80\n",
            "Train loss 0.9153705835342407\n",
            "test loss 0.850259006023407\n",
            "Epoch 90\n",
            "Train loss 0.8225916624069214\n",
            "test loss 0.7654816508293152\n",
            "Epoch 100\n",
            "Train loss 0.7590030431747437\n",
            "test loss 0.7078060507774353\n"
          ]
        }
      ]
    },
    {
      "cell_type": "code",
      "source": [
        "# Plot training and test loss\n",
        "plt.figure(figsize=(10, 5))\n",
        "plt.plot(range(num_epochs), train_losses, label='Train Loss')\n",
        "plt.plot(range(num_epochs), test_losses, label='Test Loss')\n",
        "plt.xlabel('Epoch')\n",
        "plt.ylabel('Loss')\n",
        "plt.title('Training and Test Loss over Epochs')\n",
        "plt.legend()\n",
        "plt.show()"
      ],
      "metadata": {
        "id": "B3CejbolIiN9",
        "colab": {
          "base_uri": "https://localhost:8080/",
          "height": 487
        },
        "outputId": "c6110a5b-2655-4c9d-dddf-c2f050477fd2"
      },
      "execution_count": null,
      "outputs": [
        {
          "output_type": "display_data",
          "data": {
            "text/plain": [
              "<Figure size 1000x500 with 1 Axes>"
            ],
            "image/png": "[encoded data removed]"
          },
          "metadata": {}
        }
      ]
    },
    {
      "cell_type": "markdown",
      "metadata": {
        "id": "IPjVbQHEoEIm"
      },
      "source": [
        "\n",
        "## Evaluation"
      ]
    },
    {
      "cell_type": "code",
      "metadata": {
        "id": "Qb2guYTuoJ4M",
        "colab": {
          "base_uri": "https://localhost:8080/"
        },
        "outputId": "2af39e4c-0504-4b87-faca-d752f8f3bdd3"
      },
      "source": [
        "from sklearn.metrics import mean_absolute_error, r2_score\n",
        "# Evaluate the model\n",
        "model.eval()\n",
        "with torch.no_grad():\n",
        "    train_outputs = model(X_train)\n",
        "    train_loss = criterion(train_outputs, y_train).item()\n",
        "\n",
        "    test_outputs = model(X_test)\n",
        "    test_loss = criterion(test_outputs, y_test).item()\n",
        "\n",
        "    mae = mean_absolute_error(y_test, test_outputs)\n",
        "    r2 = r2_score(y_test, test_outputs)\n",
        "    print(f'Test MAE: {mae:.4f}')\n",
        "    print(f'Test R²: {r2:.4f}')\n",
        "\n",
        "    print(f'Final Train Loss: {train_loss:.4f}')\n",
        "    print(f'Final Test Loss: {test_loss:.4f}')\n"
      ],
      "execution_count": null,
      "outputs": [
        {
          "output_type": "stream",
          "name": "stdout",
          "text": [
            "Test MAE: 0.5868\n",
            "Test R²: 0.4547\n",
            "Final Train Loss: 0.7539\n",
            "Final Test Loss: 0.7078\n"
          ]
        }
      ]
    },
    {
      "cell_type": "code",
      "source": [
        "# Visualization of Predictions vs Actual values\n",
        "plt.figure(figsize=(10, 5))\n",
        "plt.scatter(y_test, test_outputs, alpha=0.5)\n",
        "plt.xlabel('Actual Values')\n",
        "plt.ylabel('Predicted Values')\n",
        "plt.title('Actual vs Predicted Values')\n",
        "plt.plot([y_test.min(), y_test.max()], [y_test.min(), y_test.max()], 'r--')\n",
        "plt.show()"
      ],
      "metadata": {
        "id": "jF6OknuFIunw",
        "colab": {
          "base_uri": "https://localhost:8080/",
          "height": 487
        },
        "outputId": "5819a1bc-1615-4248-f72c-29c88481deb5"
      },
      "execution_count": null,
      "outputs": [
        {
          "output_type": "display_data",
          "data": {
            "text/plain": [
              "<Figure size 1000x500 with 1 Axes>"
            ],
            "image/png": "[encoded data removed]"
          },
          "metadata": {}
        }
      ]
    },
    {
      "cell_type": "markdown",
      "metadata": {
        "id": "SELIct973E0s"
      },
      "source": [
        "A nice property of a linear model is that the weights are interpretable: We can look at the magnitude of the weights for each feature to get a sense of which features are most influential in predicting the output."
      ]
    },
    {
      "cell_type": "code",
      "metadata": {
        "id": "ji_wvUp33qXK",
        "colab": {
          "base_uri": "https://localhost:8080/"
        },
        "outputId": "9f81bb83-ea5e-4b02-eade-6cc26455ac95"
      },
      "source": [
        "print(model.linear.weight)"
      ],
      "execution_count": null,
      "outputs": [
        {
          "output_type": "stream",
          "name": "stdout",
          "text": [
            "Parameter containing:\n",
            "tensor([[ 0.7104,  0.0999,  0.0267, -0.0562, -0.0610, -0.0377, -0.1552, -0.1092]],\n",
            "       requires_grad=True)\n"
          ]
        }
      ]
    },
    {
      "cell_type": "markdown",
      "source": [
        "## Assignment: Read about `torch.autograd`\n",
        "\n",
        "`torch.autograd` is PyTorch’s automatic differentiation engine that powers neural network training. In this section, you will get a conceptual understanding of how autograd helps a neural network train.\n",
        "\n",
        "Neural networks (NNs) are a collection of nested functions that are executed on some input data. These functions are defined by parameters (consisting of weights and biases), which in PyTorch are stored in tensors.\n",
        "\n",
        "Training a NN happens in two steps:\n",
        "\n",
        "**Forward Propagation:** In forward prop, the NN makes its best guess about the correct output. It runs the input data through each of its functions to make this guess.\n",
        "\n",
        "**Backward Propagation:** In backprop, the NN adjusts its parameters proportionate to the error in its guess. It does this by traversing backwards from the output, collecting the derivatives of the error with respect to the parameters of the functions (gradients), and optimizing the parameters using gradient descent. For a more detailed walkthrough of backprop, [check out this video from 3Blue1Brown](https://www.youtube.com/watch?v=tIeHLnjs5U8)."
      ],
      "metadata": {
        "id": "CP9roZshkDp6"
      }
    }
  ]
}